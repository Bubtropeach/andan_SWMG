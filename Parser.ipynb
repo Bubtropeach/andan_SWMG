{
 "cells": [
  {
   "cell_type": "code",
   "execution_count": 17,
   "id": "505dd703-1019-4115-a521-5d1726dc3dd0",
   "metadata": {},
   "outputs": [],
   "source": [
    "import requests     \n",
    "import numpy as np   \n",
    "import pandas as pd  \n",
    "import time        \n",
    "import matplotlib.pyplot as plt\n",
    "from bs4 import BeautifulSoup\n",
    "import docx2txt\n",
    "from pathlib import Path\n",
    "import html5lib\n",
    "import re\n",
    "import matplotlib.pyplot as plt\n",
    "from selenium import webdriver \n",
    "from selenium.webdriver.chrome.service import Service as ChromeService \n",
    "from webdriver_manager.chrome import ChromeDriverManager \n",
    "import time\n",
    "import os"
   ]
  },
  {
   "cell_type": "markdown",
   "id": "8aeee3f9-602f-4e86-98d1-0d5230feb2c4",
   "metadata": {},
   "source": [
    "**Проблемы парсинга Росстата:**\n",
    "\n",
    "-Страницы динамические, простой парсинг не работает, я буду использовать Селениум\n",
    "\n",
    "-Последние года(с 2015 года) инфа представлена в формате .doc а не html таблиц, я буду переносить таблице из .doc в .xlsx а затем импортить пандасом\n",
    "\n",
    "-Страницы могут иметь разный дизайн, необходим более сложный код или несколько функций\n",
    "\n",
    "-Дата представлена в разных форматах: сначала идет суммарное потребление алкоголя по регионам, затем подушевое потребление, затем снова суммарное, придется вытаскивать численность населения и находить подушевое потребление"
   ]
  },
  {
   "cell_type": "markdown",
   "id": "d50056af-76b6-4ff0-8285-8c679f0b3943",
   "metadata": {},
   "source": [
    "**1.** Найдем все страницы данных по годам"
   ]
  },
  {
   "cell_type": "code",
   "execution_count": 3,
   "id": "1024c536-d855-47f4-a9b6-8d3d52e3cfd2",
   "metadata": {},
   "outputs": [],
   "source": [
    "page_link = 'https://rosstat.gov.ru/folder/210/document/13204'\n",
    "response = requests.get(page_link)\n",
    "soup = BeautifulSoup(response.content, 'html')"
   ]
  },
  {
   "cell_type": "code",
   "execution_count": 4,
   "id": "07df27b3-02c6-447e-8e6c-d148417e23a5",
   "metadata": {},
   "outputs": [],
   "source": [
    "links = soup.find_all('a', class_ = \"btn btn-icon btn-white btn-br btn-sm\")\n",
    "pages = []\n",
    "link = ['https://rosstat.gov.ru/bgd/regl/','/Iss.htm']\n",
    "for item in links:\n",
    "    if item.get('href').startswith('http'): pages.append(link[0]+item.get('href').split('/')[5]+link[1])"
   ]
  },
  {
   "cell_type": "code",
   "execution_count": 5,
   "id": "60a84e8f-1ecc-45a1-bcb9-94afad363ca9",
   "metadata": {},
   "outputs": [
    {
     "data": {
      "text/plain": [
       "['https://rosstat.gov.ru/bgd/regl/b21_14p/Iss.htm',\n",
       " 'https://rosstat.gov.ru/bgd/regl/b20_14p/Iss.htm',\n",
       " 'https://rosstat.gov.ru/bgd/regl/B19_14p/Iss.htm',\n",
       " 'https://rosstat.gov.ru/bgd/regl/B18_14p/Iss.htm',\n",
       " 'https://rosstat.gov.ru/bgd/regl/B17_14p/Iss.htm',\n",
       " 'https://rosstat.gov.ru/bgd/regl/B16_14p/Iss.htm',\n",
       " 'https://rosstat.gov.ru/bgd/regl/B15_14p/Iss.htm',\n",
       " 'https://rosstat.gov.ru/bgd/regl/B14_14p/Iss.htm',\n",
       " 'https://rosstat.gov.ru/bgd/regl/B13_14p/Iss.htm',\n",
       " 'https://rosstat.gov.ru/bgd/regl/B12_14p/Iss.htm',\n",
       " 'https://rosstat.gov.ru/bgd/regl/B11_14p/Iss.htm',\n",
       " 'https://rosstat.gov.ru/bgd/regl/B10_14p/Iss.htm',\n",
       " 'https://rosstat.gov.ru/bgd/regl/B09_14p/Iss.htm',\n",
       " 'https://rosstat.gov.ru/bgd/regl/B08_14p/Iss.htm',\n",
       " 'https://rosstat.gov.ru/bgd/regl/B07_14p/Iss.htm',\n",
       " 'https://rosstat.gov.ru/bgd/regl/B06_14p/Iss.htm',\n",
       " 'https://rosstat.gov.ru/bgd/regl/B05_14p/Iss.htm',\n",
       " 'https://rosstat.gov.ru/bgd/regl/B04_14/Iss.htm',\n",
       " 'https://rosstat.gov.ru/bgd/regl/B03_14/Iss.htm']"
      ]
     },
     "execution_count": 5,
     "metadata": {},
     "output_type": "execute_result"
    }
   ],
   "source": [
    "pages"
   ]
  },
  {
   "cell_type": "markdown",
   "id": "b93c43fe-fb21-4f5a-a5a1-f08f09821f1c",
   "metadata": {},
   "source": [
    "**2.** Вытащим потребление алкоголя по годам"
   ]
  },
  {
   "cell_type": "code",
   "execution_count": 93,
   "id": "e8737e5b-57b0-421b-8169-86070794b1e3",
   "metadata": {},
   "outputs": [],
   "source": [
    "def take_page(url, first_path, second_path, wording='алко'):##находим ссылку на html таблицу\n",
    "    driver = webdriver.Chrome() \n",
    "    driver.get(url) \n",
    "    time.sleep(2)\n",
    "    try:\n",
    "        element = driver.find_element('xpath', \"//*[(text()='\"+first_path[0]+\"')]\")\n",
    "    except:\n",
    "        element = driver.find_element('xpath', \"//*[(text()='\"+first_path[1]+\"')]\")\n",
    "    element.click()\n",
    "    time.sleep(2)\n",
    "    try:\n",
    "        element_1 = driver.find_element('xpath', \"//*[text()='\"+second_path[0]+\"']\")\n",
    "    except:\n",
    "        element_1 = driver.find_element('xpath', \"//*[(text()='\"+second_path[1]+\"')]\")\n",
    "    element_1.click()\n",
    "    time.sleep(2)\n",
    "    elements = driver.find_elements('xpath', \"//*[@href]\")\n",
    "    res = dict()\n",
    "    for el in elements:\n",
    "        res[el.get_attribute('text')] = el.get_attribute('href')\n",
    "    driver.quit()\n",
    "    return(list(value for key, value in res.items() if wording in key.lower()))"
   ]
  },
  {
   "cell_type": "code",
   "execution_count": 7,
   "id": "fa2c3851-5ef5-4094-a88b-b3c2087d7464",
   "metadata": {},
   "outputs": [],
   "source": [
    "def make_df(url):\n",
    "    response_temp = requests.get(url) \n",
    "    soup_temp = BeautifulSoup(response_temp.content,'html')\n",
    "    tables = soup_temp.find_all('table')\n",
    "    \n",
    "    \n",
    "    df = pd.read_html(str(tables), flavor='bs4')[0]\n",
    "    years = list(df[df.columns[1:3]].iloc[1])\n",
    "    df1 = df[df.columns[::2]].drop(1, axis=0)\n",
    "    df1 = df1.rename(columns=df1.iloc[0]).drop(df1.index[0])\n",
    "    df1 = df1.rename(columns={np.nan:'Регион'})\n",
    "    df1[df1.columns[1::]] = df1[df1.columns[1::]].map(lambda x: float(x) if x.isdigit() else 0).map(lambda x: x/10)\n",
    "    df1['Год'] = years[1]\n",
    "    df2 = df[df.columns[0]].drop(1, axis=0)\n",
    "    df2.iloc[0]='Регион'\n",
    "    a = df[df.columns[1::2]].drop(1, axis=0)\n",
    "    df2 = pd.merge(df2, a, left_index=True, right_index=True)\n",
    "    df2 = df2.rename(columns=df2.iloc[0]).drop(df2.index[0])\n",
    "    df2[df2.columns[1::]] = df2[df2.columns[1::]].map(lambda x: float(x) if x.isdigit() else 0).map(lambda x: x/10)\n",
    "    df2['Год'] = years[0]\n",
    "    return df1, df2"
   ]
  },
  {
   "cell_type": "markdown",
   "id": "0492094d-604d-4834-b714-6db556ba026b",
   "metadata": {},
   "source": [
    "Собираем данные за 2001-2005 в отдельную таблицу, тут суммарное потребление алкоголя по регионам, все данные будут экспортироваться в .csv, далее будут собираться в один датафрейм"
   ]
  },
  {
   "cell_type": "code",
   "execution_count": 8,
   "id": "93dccbc9-b3ab-42a5-b1cf-b04c4566fdd8",
   "metadata": {},
   "outputs": [],
   "source": [
    "trade = ['Торговля и услуги населению', 'ТОРГОВЛЯ И УСЛУГИ НАСЕЛЕНИЮ']\n",
    "retail = ['Розничная торговля', 'РОЗНИЧНАЯ ТОРГОВЛЯ']\n",
    "url_ = take_page('https://rosstat.gov.ru/bgd/regl/B03_14/ISS.htm', trade, retail)"
   ]
  },
  {
   "cell_type": "code",
   "execution_count": 9,
   "id": "b7effcdd-caa2-42e1-9687-5c42f5085242",
   "metadata": {},
   "outputs": [
    {
     "name": "stderr",
     "output_type": "stream",
     "text": [
      "C:\\Users\\maxkh\\AppData\\Local\\Temp\\ipykernel_22172\\558925790.py:7: FutureWarning: Passing literal html to 'read_html' is deprecated and will be removed in a future version. To read from a literal string, wrap it in a 'StringIO' object.\n",
      "  df = pd.read_html(str(tables), flavor='bs4')[0]\n",
      "C:\\Users\\maxkh\\AppData\\Local\\Temp\\ipykernel_22172\\558925790.py:7: FutureWarning: Passing literal html to 'read_html' is deprecated and will be removed in a future version. To read from a literal string, wrap it in a 'StringIO' object.\n",
      "  df = pd.read_html(str(tables), flavor='bs4')[0]\n",
      "C:\\Users\\maxkh\\AppData\\Local\\Temp\\ipykernel_22172\\558925790.py:7: FutureWarning: Passing literal html to 'read_html' is deprecated and will be removed in a future version. To read from a literal string, wrap it in a 'StringIO' object.\n",
      "  df = pd.read_html(str(tables), flavor='bs4')[0]\n",
      "C:\\Users\\maxkh\\AppData\\Local\\Temp\\ipykernel_22172\\558925790.py:7: FutureWarning: Passing literal html to 'read_html' is deprecated and will be removed in a future version. To read from a literal string, wrap it in a 'StringIO' object.\n",
      "  df = pd.read_html(str(tables), flavor='bs4')[0]\n"
     ]
    }
   ],
   "source": [
    "df2, df1 = make_df(url_[0])\n",
    "df = df1._append(df2, ignore_index='True')\n",
    "for page in pages[17:14:-1]:\n",
    "    url = take_page(page, trade, retail)[0]\n",
    "    df2, df1 = make_df(url)\n",
    "    df2.columns=df.columns\n",
    "    df = df._append(df2, ignore_index='True')\n",
    "cols = df.columns[:6]\n",
    "filepath=Path('Data/2001-2005.csv')\n",
    "df.to_csv(filepath)##Сохраним в"
   ]
  },
  {
   "cell_type": "code",
   "execution_count": 10,
   "id": "455f361c-bf04-4cc2-a97a-1af88fc9ba22",
   "metadata": {},
   "outputs": [
    {
     "data": {
      "text/html": [
       "<div>\n",
       "<style scoped>\n",
       "    .dataframe tbody tr th:only-of-type {\n",
       "        vertical-align: middle;\n",
       "    }\n",
       "\n",
       "    .dataframe tbody tr th {\n",
       "        vertical-align: top;\n",
       "    }\n",
       "\n",
       "    .dataframe thead th {\n",
       "        text-align: right;\n",
       "    }\n",
       "</style>\n",
       "<table border=\"1\" class=\"dataframe\">\n",
       "  <thead>\n",
       "    <tr style=\"text-align: right;\">\n",
       "      <th></th>\n",
       "      <th>Регион</th>\n",
       "      <th>Водка и ликеро- водочные изделия</th>\n",
       "      <th>Виноградные и плодовые вина</th>\n",
       "      <th>Шампанские и игристые вина</th>\n",
       "      <th>Коньяки</th>\n",
       "      <th>Пиво</th>\n",
       "      <th>Год</th>\n",
       "    </tr>\n",
       "  </thead>\n",
       "  <tbody>\n",
       "    <tr>\n",
       "      <th>0</th>\n",
       "      <td>Российская Федеpация, млрд. дкл</td>\n",
       "      <td>209.1</td>\n",
       "      <td>56.1</td>\n",
       "      <td>18.5</td>\n",
       "      <td>4.5</td>\n",
       "      <td>634.6</td>\n",
       "      <td>2001</td>\n",
       "    </tr>\n",
       "    <tr>\n",
       "      <th>1</th>\n",
       "      <td>Центpальный федеральный округ</td>\n",
       "      <td>59460.5</td>\n",
       "      <td>14305.6</td>\n",
       "      <td>6626.5</td>\n",
       "      <td>1279.5</td>\n",
       "      <td>182444.1</td>\n",
       "      <td>2001</td>\n",
       "    </tr>\n",
       "    <tr>\n",
       "      <th>2</th>\n",
       "      <td>Белгородская область</td>\n",
       "      <td>1428.5</td>\n",
       "      <td>511.1</td>\n",
       "      <td>123.6</td>\n",
       "      <td>18.8</td>\n",
       "      <td>3499.2</td>\n",
       "      <td>2001</td>\n",
       "    </tr>\n",
       "    <tr>\n",
       "      <th>3</th>\n",
       "      <td>Бpянская область</td>\n",
       "      <td>1120.2</td>\n",
       "      <td>382.3</td>\n",
       "      <td>60.9</td>\n",
       "      <td>9.7</td>\n",
       "      <td>5827.6</td>\n",
       "      <td>2001</td>\n",
       "    </tr>\n",
       "    <tr>\n",
       "      <th>4</th>\n",
       "      <td>Владимиpская область</td>\n",
       "      <td>2366.5</td>\n",
       "      <td>366.5</td>\n",
       "      <td>96.7</td>\n",
       "      <td>22.1</td>\n",
       "      <td>4412.4</td>\n",
       "      <td>2001</td>\n",
       "    </tr>\n",
       "    <tr>\n",
       "      <th>...</th>\n",
       "      <td>...</td>\n",
       "      <td>...</td>\n",
       "      <td>...</td>\n",
       "      <td>...</td>\n",
       "      <td>...</td>\n",
       "      <td>...</td>\n",
       "      <td>...</td>\n",
       "    </tr>\n",
       "    <tr>\n",
       "      <th>435</th>\n",
       "      <td>Камчатская область</td>\n",
       "      <td>776.9</td>\n",
       "      <td>291.9</td>\n",
       "      <td>47.9</td>\n",
       "      <td>71.5</td>\n",
       "      <td>1717.7</td>\n",
       "      <td>2005</td>\n",
       "    </tr>\n",
       "    <tr>\n",
       "      <th>436</th>\n",
       "      <td>Магаданская область</td>\n",
       "      <td>283.6</td>\n",
       "      <td>115.0</td>\n",
       "      <td>11.9</td>\n",
       "      <td>35.0</td>\n",
       "      <td>692.0</td>\n",
       "      <td>2005</td>\n",
       "    </tr>\n",
       "    <tr>\n",
       "      <th>437</th>\n",
       "      <td>Сахалинская область</td>\n",
       "      <td>1004.3</td>\n",
       "      <td>364.8</td>\n",
       "      <td>53.4</td>\n",
       "      <td>117.8</td>\n",
       "      <td>2077.7</td>\n",
       "      <td>2005</td>\n",
       "    </tr>\n",
       "    <tr>\n",
       "      <th>438</th>\n",
       "      <td>Еврейская автономная область</td>\n",
       "      <td>130.0</td>\n",
       "      <td>67.6</td>\n",
       "      <td>2.2</td>\n",
       "      <td>7.2</td>\n",
       "      <td>1086.3</td>\n",
       "      <td>2005</td>\n",
       "    </tr>\n",
       "    <tr>\n",
       "      <th>439</th>\n",
       "      <td>Чукотский автономный округ</td>\n",
       "      <td>57.6</td>\n",
       "      <td>20.8</td>\n",
       "      <td>3.7</td>\n",
       "      <td>8.2</td>\n",
       "      <td>47.4</td>\n",
       "      <td>2005</td>\n",
       "    </tr>\n",
       "  </tbody>\n",
       "</table>\n",
       "<p>440 rows × 7 columns</p>\n",
       "</div>"
      ],
      "text/plain": [
       "                              Регион  Водка и ликеро- водочные изделия  \\\n",
       "0    Российская Федеpация, млрд. дкл                             209.1   \n",
       "1      Центpальный федеральный округ                           59460.5   \n",
       "2               Белгородская область                            1428.5   \n",
       "3                   Бpянская область                            1120.2   \n",
       "4               Владимиpская область                            2366.5   \n",
       "..                               ...                               ...   \n",
       "435               Камчатская область                             776.9   \n",
       "436              Магаданская область                             283.6   \n",
       "437              Сахалинская область                            1004.3   \n",
       "438     Еврейская автономная область                             130.0   \n",
       "439       Чукотский автономный округ                              57.6   \n",
       "\n",
       "     Виноградные и плодовые вина  Шампанские и игристые вина  Коньяки  \\\n",
       "0                           56.1                        18.5      4.5   \n",
       "1                        14305.6                      6626.5   1279.5   \n",
       "2                          511.1                       123.6     18.8   \n",
       "3                          382.3                        60.9      9.7   \n",
       "4                          366.5                        96.7     22.1   \n",
       "..                           ...                         ...      ...   \n",
       "435                        291.9                        47.9     71.5   \n",
       "436                        115.0                        11.9     35.0   \n",
       "437                        364.8                        53.4    117.8   \n",
       "438                         67.6                         2.2      7.2   \n",
       "439                         20.8                         3.7      8.2   \n",
       "\n",
       "         Пиво   Год  \n",
       "0       634.6  2001  \n",
       "1    182444.1  2001  \n",
       "2      3499.2  2001  \n",
       "3      5827.6  2001  \n",
       "4      4412.4  2001  \n",
       "..        ...   ...  \n",
       "435    1717.7  2005  \n",
       "436     692.0  2005  \n",
       "437    2077.7  2005  \n",
       "438    1086.3  2005  \n",
       "439      47.4  2005  \n",
       "\n",
       "[440 rows x 7 columns]"
      ]
     },
     "execution_count": 10,
     "metadata": {},
     "output_type": "execute_result"
    }
   ],
   "source": [
    "df"
   ]
  },
  {
   "cell_type": "markdown",
   "id": "c0cfe2c1-fe2d-4521-89b5-a2ccb3cd4945",
   "metadata": {},
   "source": [
    "2006-2013 года, тут уже подушевое потребление, сохраним отдельно"
   ]
  },
  {
   "cell_type": "code",
   "execution_count": 12,
   "id": "f5d90d70-1c78-437d-9b1a-289e1459141b",
   "metadata": {},
   "outputs": [],
   "source": [
    "def take_df(url, year):\n",
    "    response_temp = requests.get(url) \n",
    "    soup_temp = BeautifulSoup(response_temp.content,'html')\n",
    "    tables = soup_temp.find_all('table')\n",
    "    \n",
    "    df = pd.read_html(str(tables), flavor='bs4')[0]\n",
    "    df1 = df[df.columns[::2]]\n",
    "    df1 = df1.rename(columns=df1.iloc[0]).drop(df1.index[0])\n",
    "    df1 = df1.rename(columns={np.nan:'Регион'})\n",
    "    df1['Год'] = year\n",
    "    df1[df1.columns[1:-1]] = df1[df1.columns[1:-1]].map(lambda x: float(x) if str(x).isdigit() else 0).map(lambda x: x/10)\n",
    "    return df1"
   ]
  },
  {
   "cell_type": "markdown",
   "id": "062d1e24-1ed7-4d2e-b304-0e5d0e3af12f",
   "metadata": {},
   "source": [
    "Ниже могут быть ConnectionTimeout, однако данный код уже прогонялся в Черновой тетрадке, данные уже собраны"
   ]
  },
  {
   "cell_type": "code",
   "execution_count": 14,
   "id": "a154272f-7ae1-4841-9935-cac5e72b5e5f",
   "metadata": {},
   "outputs": [
    {
     "ename": "ConnectTimeout",
     "evalue": "HTTPSConnectionPool(host='rosstat.gov.ru', port=443): Max retries exceeded with url: /bgd/regl/B07_14p/IssWWW.exe/Stg/d03/20-10.htm (Caused by ConnectTimeoutError(<urllib3.connection.HTTPSConnection object at 0x0000029CFBA24350>, 'Connection to rosstat.gov.ru timed out. (connect timeout=None)'))",
     "output_type": "error",
     "traceback": [
      "\u001b[1;31m---------------------------------------------------------------------------\u001b[0m",
      "\u001b[1;31mTimeoutError\u001b[0m                              Traceback (most recent call last)",
      "File \u001b[1;32mD:\\Conda\\Lib\\site-packages\\urllib3\\connection.py:174\u001b[0m, in \u001b[0;36mHTTPConnection._new_conn\u001b[1;34m(self)\u001b[0m\n\u001b[0;32m    173\u001b[0m \u001b[38;5;28;01mtry\u001b[39;00m:\n\u001b[1;32m--> 174\u001b[0m     conn \u001b[38;5;241m=\u001b[39m connection\u001b[38;5;241m.\u001b[39mcreate_connection(\n\u001b[0;32m    175\u001b[0m         (\u001b[38;5;28mself\u001b[39m\u001b[38;5;241m.\u001b[39m_dns_host, \u001b[38;5;28mself\u001b[39m\u001b[38;5;241m.\u001b[39mport), \u001b[38;5;28mself\u001b[39m\u001b[38;5;241m.\u001b[39mtimeout, \u001b[38;5;241m*\u001b[39m\u001b[38;5;241m*\u001b[39mextra_kw\n\u001b[0;32m    176\u001b[0m     )\n\u001b[0;32m    178\u001b[0m \u001b[38;5;28;01mexcept\u001b[39;00m SocketTimeout:\n",
      "File \u001b[1;32mD:\\Conda\\Lib\\site-packages\\urllib3\\util\\connection.py:95\u001b[0m, in \u001b[0;36mcreate_connection\u001b[1;34m(address, timeout, source_address, socket_options)\u001b[0m\n\u001b[0;32m     94\u001b[0m \u001b[38;5;28;01mif\u001b[39;00m err \u001b[38;5;129;01mis\u001b[39;00m \u001b[38;5;129;01mnot\u001b[39;00m \u001b[38;5;28;01mNone\u001b[39;00m:\n\u001b[1;32m---> 95\u001b[0m     \u001b[38;5;28;01mraise\u001b[39;00m err\n\u001b[0;32m     97\u001b[0m \u001b[38;5;28;01mraise\u001b[39;00m socket\u001b[38;5;241m.\u001b[39merror(\u001b[38;5;124m\"\u001b[39m\u001b[38;5;124mgetaddrinfo returns an empty list\u001b[39m\u001b[38;5;124m\"\u001b[39m)\n",
      "File \u001b[1;32mD:\\Conda\\Lib\\site-packages\\urllib3\\util\\connection.py:85\u001b[0m, in \u001b[0;36mcreate_connection\u001b[1;34m(address, timeout, source_address, socket_options)\u001b[0m\n\u001b[0;32m     84\u001b[0m     sock\u001b[38;5;241m.\u001b[39mbind(source_address)\n\u001b[1;32m---> 85\u001b[0m sock\u001b[38;5;241m.\u001b[39mconnect(sa)\n\u001b[0;32m     86\u001b[0m \u001b[38;5;28;01mreturn\u001b[39;00m sock\n",
      "\u001b[1;31mTimeoutError\u001b[0m: [WinError 10060] A connection attempt failed because the connected party did not properly respond after a period of time, or established connection failed because connected host has failed to respond",
      "\nDuring handling of the above exception, another exception occurred:\n",
      "\u001b[1;31mConnectTimeoutError\u001b[0m                       Traceback (most recent call last)",
      "File \u001b[1;32mD:\\Conda\\Lib\\site-packages\\urllib3\\connectionpool.py:715\u001b[0m, in \u001b[0;36mHTTPConnectionPool.urlopen\u001b[1;34m(self, method, url, body, headers, retries, redirect, assert_same_host, timeout, pool_timeout, release_conn, chunked, body_pos, **response_kw)\u001b[0m\n\u001b[0;32m    714\u001b[0m \u001b[38;5;66;03m# Make the request on the httplib connection object.\u001b[39;00m\n\u001b[1;32m--> 715\u001b[0m httplib_response \u001b[38;5;241m=\u001b[39m \u001b[38;5;28mself\u001b[39m\u001b[38;5;241m.\u001b[39m_make_request(\n\u001b[0;32m    716\u001b[0m     conn,\n\u001b[0;32m    717\u001b[0m     method,\n\u001b[0;32m    718\u001b[0m     url,\n\u001b[0;32m    719\u001b[0m     timeout\u001b[38;5;241m=\u001b[39mtimeout_obj,\n\u001b[0;32m    720\u001b[0m     body\u001b[38;5;241m=\u001b[39mbody,\n\u001b[0;32m    721\u001b[0m     headers\u001b[38;5;241m=\u001b[39mheaders,\n\u001b[0;32m    722\u001b[0m     chunked\u001b[38;5;241m=\u001b[39mchunked,\n\u001b[0;32m    723\u001b[0m )\n\u001b[0;32m    725\u001b[0m \u001b[38;5;66;03m# If we're going to release the connection in ``finally:``, then\u001b[39;00m\n\u001b[0;32m    726\u001b[0m \u001b[38;5;66;03m# the response doesn't need to know about the connection. Otherwise\u001b[39;00m\n\u001b[0;32m    727\u001b[0m \u001b[38;5;66;03m# it will also try to release it and we'll have a double-release\u001b[39;00m\n\u001b[0;32m    728\u001b[0m \u001b[38;5;66;03m# mess.\u001b[39;00m\n",
      "File \u001b[1;32mD:\\Conda\\Lib\\site-packages\\urllib3\\connectionpool.py:404\u001b[0m, in \u001b[0;36mHTTPConnectionPool._make_request\u001b[1;34m(self, conn, method, url, timeout, chunked, **httplib_request_kw)\u001b[0m\n\u001b[0;32m    403\u001b[0m \u001b[38;5;28;01mtry\u001b[39;00m:\n\u001b[1;32m--> 404\u001b[0m     \u001b[38;5;28mself\u001b[39m\u001b[38;5;241m.\u001b[39m_validate_conn(conn)\n\u001b[0;32m    405\u001b[0m \u001b[38;5;28;01mexcept\u001b[39;00m (SocketTimeout, BaseSSLError) \u001b[38;5;28;01mas\u001b[39;00m e:\n\u001b[0;32m    406\u001b[0m     \u001b[38;5;66;03m# Py2 raises this as a BaseSSLError, Py3 raises it as socket timeout.\u001b[39;00m\n",
      "File \u001b[1;32mD:\\Conda\\Lib\\site-packages\\urllib3\\connectionpool.py:1058\u001b[0m, in \u001b[0;36mHTTPSConnectionPool._validate_conn\u001b[1;34m(self, conn)\u001b[0m\n\u001b[0;32m   1057\u001b[0m \u001b[38;5;28;01mif\u001b[39;00m \u001b[38;5;129;01mnot\u001b[39;00m \u001b[38;5;28mgetattr\u001b[39m(conn, \u001b[38;5;124m\"\u001b[39m\u001b[38;5;124msock\u001b[39m\u001b[38;5;124m\"\u001b[39m, \u001b[38;5;28;01mNone\u001b[39;00m):  \u001b[38;5;66;03m# AppEngine might not have  `.sock`\u001b[39;00m\n\u001b[1;32m-> 1058\u001b[0m     conn\u001b[38;5;241m.\u001b[39mconnect()\n\u001b[0;32m   1060\u001b[0m \u001b[38;5;28;01mif\u001b[39;00m \u001b[38;5;129;01mnot\u001b[39;00m conn\u001b[38;5;241m.\u001b[39mis_verified:\n",
      "File \u001b[1;32mD:\\Conda\\Lib\\site-packages\\urllib3\\connection.py:363\u001b[0m, in \u001b[0;36mHTTPSConnection.connect\u001b[1;34m(self)\u001b[0m\n\u001b[0;32m    361\u001b[0m \u001b[38;5;28;01mdef\u001b[39;00m \u001b[38;5;21mconnect\u001b[39m(\u001b[38;5;28mself\u001b[39m):\n\u001b[0;32m    362\u001b[0m     \u001b[38;5;66;03m# Add certificate verification\u001b[39;00m\n\u001b[1;32m--> 363\u001b[0m     \u001b[38;5;28mself\u001b[39m\u001b[38;5;241m.\u001b[39msock \u001b[38;5;241m=\u001b[39m conn \u001b[38;5;241m=\u001b[39m \u001b[38;5;28mself\u001b[39m\u001b[38;5;241m.\u001b[39m_new_conn()\n\u001b[0;32m    364\u001b[0m     hostname \u001b[38;5;241m=\u001b[39m \u001b[38;5;28mself\u001b[39m\u001b[38;5;241m.\u001b[39mhost\n",
      "File \u001b[1;32mD:\\Conda\\Lib\\site-packages\\urllib3\\connection.py:179\u001b[0m, in \u001b[0;36mHTTPConnection._new_conn\u001b[1;34m(self)\u001b[0m\n\u001b[0;32m    178\u001b[0m \u001b[38;5;28;01mexcept\u001b[39;00m SocketTimeout:\n\u001b[1;32m--> 179\u001b[0m     \u001b[38;5;28;01mraise\u001b[39;00m ConnectTimeoutError(\n\u001b[0;32m    180\u001b[0m         \u001b[38;5;28mself\u001b[39m,\n\u001b[0;32m    181\u001b[0m         \u001b[38;5;124m\"\u001b[39m\u001b[38;5;124mConnection to \u001b[39m\u001b[38;5;132;01m%s\u001b[39;00m\u001b[38;5;124m timed out. (connect timeout=\u001b[39m\u001b[38;5;132;01m%s\u001b[39;00m\u001b[38;5;124m)\u001b[39m\u001b[38;5;124m\"\u001b[39m\n\u001b[0;32m    182\u001b[0m         \u001b[38;5;241m%\u001b[39m (\u001b[38;5;28mself\u001b[39m\u001b[38;5;241m.\u001b[39mhost, \u001b[38;5;28mself\u001b[39m\u001b[38;5;241m.\u001b[39mtimeout),\n\u001b[0;32m    183\u001b[0m     )\n\u001b[0;32m    185\u001b[0m \u001b[38;5;28;01mexcept\u001b[39;00m SocketError \u001b[38;5;28;01mas\u001b[39;00m e:\n",
      "\u001b[1;31mConnectTimeoutError\u001b[0m: (<urllib3.connection.HTTPSConnection object at 0x0000029CFBA24350>, 'Connection to rosstat.gov.ru timed out. (connect timeout=None)')",
      "\nDuring handling of the above exception, another exception occurred:\n",
      "\u001b[1;31mMaxRetryError\u001b[0m                             Traceback (most recent call last)",
      "File \u001b[1;32mD:\\Conda\\Lib\\site-packages\\requests\\adapters.py:486\u001b[0m, in \u001b[0;36mHTTPAdapter.send\u001b[1;34m(self, request, stream, timeout, verify, cert, proxies)\u001b[0m\n\u001b[0;32m    485\u001b[0m \u001b[38;5;28;01mtry\u001b[39;00m:\n\u001b[1;32m--> 486\u001b[0m     resp \u001b[38;5;241m=\u001b[39m conn\u001b[38;5;241m.\u001b[39murlopen(\n\u001b[0;32m    487\u001b[0m         method\u001b[38;5;241m=\u001b[39mrequest\u001b[38;5;241m.\u001b[39mmethod,\n\u001b[0;32m    488\u001b[0m         url\u001b[38;5;241m=\u001b[39murl,\n\u001b[0;32m    489\u001b[0m         body\u001b[38;5;241m=\u001b[39mrequest\u001b[38;5;241m.\u001b[39mbody,\n\u001b[0;32m    490\u001b[0m         headers\u001b[38;5;241m=\u001b[39mrequest\u001b[38;5;241m.\u001b[39mheaders,\n\u001b[0;32m    491\u001b[0m         redirect\u001b[38;5;241m=\u001b[39m\u001b[38;5;28;01mFalse\u001b[39;00m,\n\u001b[0;32m    492\u001b[0m         assert_same_host\u001b[38;5;241m=\u001b[39m\u001b[38;5;28;01mFalse\u001b[39;00m,\n\u001b[0;32m    493\u001b[0m         preload_content\u001b[38;5;241m=\u001b[39m\u001b[38;5;28;01mFalse\u001b[39;00m,\n\u001b[0;32m    494\u001b[0m         decode_content\u001b[38;5;241m=\u001b[39m\u001b[38;5;28;01mFalse\u001b[39;00m,\n\u001b[0;32m    495\u001b[0m         retries\u001b[38;5;241m=\u001b[39m\u001b[38;5;28mself\u001b[39m\u001b[38;5;241m.\u001b[39mmax_retries,\n\u001b[0;32m    496\u001b[0m         timeout\u001b[38;5;241m=\u001b[39mtimeout,\n\u001b[0;32m    497\u001b[0m         chunked\u001b[38;5;241m=\u001b[39mchunked,\n\u001b[0;32m    498\u001b[0m     )\n\u001b[0;32m    500\u001b[0m \u001b[38;5;28;01mexcept\u001b[39;00m (ProtocolError, \u001b[38;5;167;01mOSError\u001b[39;00m) \u001b[38;5;28;01mas\u001b[39;00m err:\n",
      "File \u001b[1;32mD:\\Conda\\Lib\\site-packages\\urllib3\\connectionpool.py:799\u001b[0m, in \u001b[0;36mHTTPConnectionPool.urlopen\u001b[1;34m(self, method, url, body, headers, retries, redirect, assert_same_host, timeout, pool_timeout, release_conn, chunked, body_pos, **response_kw)\u001b[0m\n\u001b[0;32m    797\u001b[0m     e \u001b[38;5;241m=\u001b[39m ProtocolError(\u001b[38;5;124m\"\u001b[39m\u001b[38;5;124mConnection aborted.\u001b[39m\u001b[38;5;124m\"\u001b[39m, e)\n\u001b[1;32m--> 799\u001b[0m retries \u001b[38;5;241m=\u001b[39m retries\u001b[38;5;241m.\u001b[39mincrement(\n\u001b[0;32m    800\u001b[0m     method, url, error\u001b[38;5;241m=\u001b[39me, _pool\u001b[38;5;241m=\u001b[39m\u001b[38;5;28mself\u001b[39m, _stacktrace\u001b[38;5;241m=\u001b[39msys\u001b[38;5;241m.\u001b[39mexc_info()[\u001b[38;5;241m2\u001b[39m]\n\u001b[0;32m    801\u001b[0m )\n\u001b[0;32m    802\u001b[0m retries\u001b[38;5;241m.\u001b[39msleep()\n",
      "File \u001b[1;32mD:\\Conda\\Lib\\site-packages\\urllib3\\util\\retry.py:592\u001b[0m, in \u001b[0;36mRetry.increment\u001b[1;34m(self, method, url, response, error, _pool, _stacktrace)\u001b[0m\n\u001b[0;32m    591\u001b[0m \u001b[38;5;28;01mif\u001b[39;00m new_retry\u001b[38;5;241m.\u001b[39mis_exhausted():\n\u001b[1;32m--> 592\u001b[0m     \u001b[38;5;28;01mraise\u001b[39;00m MaxRetryError(_pool, url, error \u001b[38;5;129;01mor\u001b[39;00m ResponseError(cause))\n\u001b[0;32m    594\u001b[0m log\u001b[38;5;241m.\u001b[39mdebug(\u001b[38;5;124m\"\u001b[39m\u001b[38;5;124mIncremented Retry for (url=\u001b[39m\u001b[38;5;124m'\u001b[39m\u001b[38;5;132;01m%s\u001b[39;00m\u001b[38;5;124m'\u001b[39m\u001b[38;5;124m): \u001b[39m\u001b[38;5;132;01m%r\u001b[39;00m\u001b[38;5;124m\"\u001b[39m, url, new_retry)\n",
      "\u001b[1;31mMaxRetryError\u001b[0m: HTTPSConnectionPool(host='rosstat.gov.ru', port=443): Max retries exceeded with url: /bgd/regl/B07_14p/IssWWW.exe/Stg/d03/20-10.htm (Caused by ConnectTimeoutError(<urllib3.connection.HTTPSConnection object at 0x0000029CFBA24350>, 'Connection to rosstat.gov.ru timed out. (connect timeout=None)'))",
      "\nDuring handling of the above exception, another exception occurred:\n",
      "\u001b[1;31mConnectTimeout\u001b[0m                            Traceback (most recent call last)",
      "Cell \u001b[1;32mIn[14], line 5\u001b[0m\n\u001b[0;32m      2\u001b[0m \u001b[38;5;28;01mfor\u001b[39;00m page \u001b[38;5;129;01min\u001b[39;00m pages[\u001b[38;5;241m14\u001b[39m:\u001b[38;5;241m6\u001b[39m:\u001b[38;5;241m-\u001b[39m\u001b[38;5;241m1\u001b[39m]:\n\u001b[0;32m      3\u001b[0m     url \u001b[38;5;241m=\u001b[39m take_page(page, trade, retail)[\u001b[38;5;241m0\u001b[39m]\n\u001b[1;32m----> 5\u001b[0m     df \u001b[38;5;241m=\u001b[39m take_df(url, y)\n\u001b[0;32m      6\u001b[0m     filepath \u001b[38;5;241m=\u001b[39m Path(\u001b[38;5;124m'\u001b[39m\u001b[38;5;124mData/\u001b[39m\u001b[38;5;132;01m{}\u001b[39;00m\u001b[38;5;124m.csv\u001b[39m\u001b[38;5;124m'\u001b[39m\u001b[38;5;241m.\u001b[39mformat(y))\n\u001b[0;32m      7\u001b[0m     df\u001b[38;5;241m.\u001b[39mto_csv(filepath)\n",
      "Cell \u001b[1;32mIn[12], line 2\u001b[0m, in \u001b[0;36mtake_df\u001b[1;34m(url, year)\u001b[0m\n\u001b[0;32m      1\u001b[0m \u001b[38;5;28;01mdef\u001b[39;00m \u001b[38;5;21mtake_df\u001b[39m(url, year):\n\u001b[1;32m----> 2\u001b[0m     response_temp \u001b[38;5;241m=\u001b[39m requests\u001b[38;5;241m.\u001b[39mget(url) \n\u001b[0;32m      3\u001b[0m     soup_temp \u001b[38;5;241m=\u001b[39m BeautifulSoup(response_temp\u001b[38;5;241m.\u001b[39mcontent,\u001b[38;5;124m'\u001b[39m\u001b[38;5;124mhtml\u001b[39m\u001b[38;5;124m'\u001b[39m)\n\u001b[0;32m      4\u001b[0m     tables \u001b[38;5;241m=\u001b[39m soup_temp\u001b[38;5;241m.\u001b[39mfind_all(\u001b[38;5;124m'\u001b[39m\u001b[38;5;124mtable\u001b[39m\u001b[38;5;124m'\u001b[39m)\n",
      "File \u001b[1;32mD:\\Conda\\Lib\\site-packages\\requests\\api.py:73\u001b[0m, in \u001b[0;36mget\u001b[1;34m(url, params, **kwargs)\u001b[0m\n\u001b[0;32m     62\u001b[0m \u001b[38;5;28;01mdef\u001b[39;00m \u001b[38;5;21mget\u001b[39m(url, params\u001b[38;5;241m=\u001b[39m\u001b[38;5;28;01mNone\u001b[39;00m, \u001b[38;5;241m*\u001b[39m\u001b[38;5;241m*\u001b[39mkwargs):\n\u001b[0;32m     63\u001b[0m \u001b[38;5;250m    \u001b[39m\u001b[38;5;124mr\u001b[39m\u001b[38;5;124;03m\"\"\"Sends a GET request.\u001b[39;00m\n\u001b[0;32m     64\u001b[0m \n\u001b[0;32m     65\u001b[0m \u001b[38;5;124;03m    :param url: URL for the new :class:`Request` object.\u001b[39;00m\n\u001b[1;32m   (...)\u001b[0m\n\u001b[0;32m     70\u001b[0m \u001b[38;5;124;03m    :rtype: requests.Response\u001b[39;00m\n\u001b[0;32m     71\u001b[0m \u001b[38;5;124;03m    \"\"\"\u001b[39;00m\n\u001b[1;32m---> 73\u001b[0m     \u001b[38;5;28;01mreturn\u001b[39;00m request(\u001b[38;5;124m\"\u001b[39m\u001b[38;5;124mget\u001b[39m\u001b[38;5;124m\"\u001b[39m, url, params\u001b[38;5;241m=\u001b[39mparams, \u001b[38;5;241m*\u001b[39m\u001b[38;5;241m*\u001b[39mkwargs)\n",
      "File \u001b[1;32mD:\\Conda\\Lib\\site-packages\\requests\\api.py:59\u001b[0m, in \u001b[0;36mrequest\u001b[1;34m(method, url, **kwargs)\u001b[0m\n\u001b[0;32m     55\u001b[0m \u001b[38;5;66;03m# By using the 'with' statement we are sure the session is closed, thus we\u001b[39;00m\n\u001b[0;32m     56\u001b[0m \u001b[38;5;66;03m# avoid leaving sockets open which can trigger a ResourceWarning in some\u001b[39;00m\n\u001b[0;32m     57\u001b[0m \u001b[38;5;66;03m# cases, and look like a memory leak in others.\u001b[39;00m\n\u001b[0;32m     58\u001b[0m \u001b[38;5;28;01mwith\u001b[39;00m sessions\u001b[38;5;241m.\u001b[39mSession() \u001b[38;5;28;01mas\u001b[39;00m session:\n\u001b[1;32m---> 59\u001b[0m     \u001b[38;5;28;01mreturn\u001b[39;00m session\u001b[38;5;241m.\u001b[39mrequest(method\u001b[38;5;241m=\u001b[39mmethod, url\u001b[38;5;241m=\u001b[39murl, \u001b[38;5;241m*\u001b[39m\u001b[38;5;241m*\u001b[39mkwargs)\n",
      "File \u001b[1;32mD:\\Conda\\Lib\\site-packages\\requests\\sessions.py:589\u001b[0m, in \u001b[0;36mSession.request\u001b[1;34m(self, method, url, params, data, headers, cookies, files, auth, timeout, allow_redirects, proxies, hooks, stream, verify, cert, json)\u001b[0m\n\u001b[0;32m    584\u001b[0m send_kwargs \u001b[38;5;241m=\u001b[39m {\n\u001b[0;32m    585\u001b[0m     \u001b[38;5;124m\"\u001b[39m\u001b[38;5;124mtimeout\u001b[39m\u001b[38;5;124m\"\u001b[39m: timeout,\n\u001b[0;32m    586\u001b[0m     \u001b[38;5;124m\"\u001b[39m\u001b[38;5;124mallow_redirects\u001b[39m\u001b[38;5;124m\"\u001b[39m: allow_redirects,\n\u001b[0;32m    587\u001b[0m }\n\u001b[0;32m    588\u001b[0m send_kwargs\u001b[38;5;241m.\u001b[39mupdate(settings)\n\u001b[1;32m--> 589\u001b[0m resp \u001b[38;5;241m=\u001b[39m \u001b[38;5;28mself\u001b[39m\u001b[38;5;241m.\u001b[39msend(prep, \u001b[38;5;241m*\u001b[39m\u001b[38;5;241m*\u001b[39msend_kwargs)\n\u001b[0;32m    591\u001b[0m \u001b[38;5;28;01mreturn\u001b[39;00m resp\n",
      "File \u001b[1;32mD:\\Conda\\Lib\\site-packages\\requests\\sessions.py:703\u001b[0m, in \u001b[0;36mSession.send\u001b[1;34m(self, request, **kwargs)\u001b[0m\n\u001b[0;32m    700\u001b[0m start \u001b[38;5;241m=\u001b[39m preferred_clock()\n\u001b[0;32m    702\u001b[0m \u001b[38;5;66;03m# Send the request\u001b[39;00m\n\u001b[1;32m--> 703\u001b[0m r \u001b[38;5;241m=\u001b[39m adapter\u001b[38;5;241m.\u001b[39msend(request, \u001b[38;5;241m*\u001b[39m\u001b[38;5;241m*\u001b[39mkwargs)\n\u001b[0;32m    705\u001b[0m \u001b[38;5;66;03m# Total elapsed time of the request (approximately)\u001b[39;00m\n\u001b[0;32m    706\u001b[0m elapsed \u001b[38;5;241m=\u001b[39m preferred_clock() \u001b[38;5;241m-\u001b[39m start\n",
      "File \u001b[1;32mD:\\Conda\\Lib\\site-packages\\requests\\adapters.py:507\u001b[0m, in \u001b[0;36mHTTPAdapter.send\u001b[1;34m(self, request, stream, timeout, verify, cert, proxies)\u001b[0m\n\u001b[0;32m    504\u001b[0m \u001b[38;5;28;01mif\u001b[39;00m \u001b[38;5;28misinstance\u001b[39m(e\u001b[38;5;241m.\u001b[39mreason, ConnectTimeoutError):\n\u001b[0;32m    505\u001b[0m     \u001b[38;5;66;03m# TODO: Remove this in 3.0.0: see #2811\u001b[39;00m\n\u001b[0;32m    506\u001b[0m     \u001b[38;5;28;01mif\u001b[39;00m \u001b[38;5;129;01mnot\u001b[39;00m \u001b[38;5;28misinstance\u001b[39m(e\u001b[38;5;241m.\u001b[39mreason, NewConnectionError):\n\u001b[1;32m--> 507\u001b[0m         \u001b[38;5;28;01mraise\u001b[39;00m ConnectTimeout(e, request\u001b[38;5;241m=\u001b[39mrequest)\n\u001b[0;32m    509\u001b[0m \u001b[38;5;28;01mif\u001b[39;00m \u001b[38;5;28misinstance\u001b[39m(e\u001b[38;5;241m.\u001b[39mreason, ResponseError):\n\u001b[0;32m    510\u001b[0m     \u001b[38;5;28;01mraise\u001b[39;00m RetryError(e, request\u001b[38;5;241m=\u001b[39mrequest)\n",
      "\u001b[1;31mConnectTimeout\u001b[0m: HTTPSConnectionPool(host='rosstat.gov.ru', port=443): Max retries exceeded with url: /bgd/regl/B07_14p/IssWWW.exe/Stg/d03/20-10.htm (Caused by ConnectTimeoutError(<urllib3.connection.HTTPSConnection object at 0x0000029CFBA24350>, 'Connection to rosstat.gov.ru timed out. (connect timeout=None)'))"
     ]
    }
   ],
   "source": [
    "y = 2006\n",
    "for page in pages[14:6:-1]:\n",
    "    url = take_page(page, trade, retail)[0]\n",
    "    \n",
    "    df = take_df(url, y)\n",
    "    filepath = Path('Data/{}.csv'.format(y))\n",
    "    df.to_csv(filepath)\n",
    "    y+=1"
   ]
  },
  {
   "cell_type": "code",
   "execution_count": 15,
   "id": "a72d2ed0-fecc-4b5b-a2b6-97642d9949ea",
   "metadata": {},
   "outputs": [],
   "source": [
    "def clear_data(path_in, cols):\n",
    "    path = Path(f\"Data/{path_in}\")\n",
    "    df = pd.read_csv(path)\n",
    "    df[df.columns[2:-1]] = df[df.columns[2:-1]].loc[~(df[df.columns[2:-1]]==0).all(axis=1)]\n",
    "    df = df.drop(columns=df.columns[0])\n",
    "    df_=pd.DataFrame({'A': []})\n",
    "    for jtem in cols:\n",
    "        for item in df.columns:\n",
    "            if jtem.startswith(item[0:3]):\n",
    "                df_[jtem] = df[item]\n",
    "    df_ = df_.drop(columns='A')\n",
    "    df_ = df_.dropna()\n",
    "    return df_"
   ]
  },
  {
   "cell_type": "code",
   "execution_count": 33,
   "id": "eecad479-e173-4061-be23-24fbbc57e223",
   "metadata": {},
   "outputs": [],
   "source": [
    "ready_files = os.listdir('Data')\n",
    "ready = [x for x in ready_files if x.endswith('.csv')][1::]"
   ]
  },
  {
   "cell_type": "code",
   "execution_count": 36,
   "id": "855c7bab-304a-4fa9-8d1d-d014f0e612ea",
   "metadata": {},
   "outputs": [
    {
     "data": {
      "text/plain": [
       "['2006.csv',\n",
       " '2007.csv',\n",
       " '2008.csv',\n",
       " '2009.csv',\n",
       " '2010.csv',\n",
       " '2011.csv',\n",
       " '2012.csv',\n",
       " '2013.csv']"
      ]
     },
     "execution_count": 36,
     "metadata": {},
     "output_type": "execute_result"
    }
   ],
   "source": [
    "ready"
   ]
  },
  {
   "cell_type": "code",
   "execution_count": 37,
   "id": "bc9f8680-0491-4aa1-acf6-6d4c7a2131f2",
   "metadata": {},
   "outputs": [],
   "source": [
    "df = clear_data(ready[0], cols)\n",
    "for item in ready:\n",
    "    df = df._append(clear_data(item, cols))\n",
    "filepath = Path('Data/by_soul/2006-2013.csv')\n",
    "df.to_csv(filepath)"
   ]
  },
  {
   "cell_type": "markdown",
   "id": "34494fa6-8d47-4c08-a187-619ddc8a8ab4",
   "metadata": {},
   "source": [
    "2014-2019 года"
   ]
  },
  {
   "cell_type": "code",
   "execution_count": 38,
   "id": "f58dfa63-4877-4465-92de-00bf9c1c0ec3",
   "metadata": {},
   "outputs": [],
   "source": [
    "path= Path(\"Data/2014-2019.xlsx\")\n",
    "df = pd.read_excel(path)\n",
    "df = df.rename(columns={'Column1':'Регион'}).drop(df.index[0])"
   ]
  },
  {
   "cell_type": "code",
   "execution_count": 47,
   "id": "f570815d-5a7b-4c08-a49f-770e5152fd93",
   "metadata": {},
   "outputs": [
    {
     "name": "stderr",
     "output_type": "stream",
     "text": [
      "C:\\Users\\maxkh\\AppData\\Local\\Temp\\ipykernel_22172\\2294441861.py:12: FutureWarning: The behavior of DataFrame concatenation with empty or all-NA entries is deprecated. In a future version, this will no longer exclude empty or all-NA columns when determining the result dtypes. To retain the old behavior, exclude the relevant entries before the concat operation.\n",
      "  df_out = df_out._append(df_temp)\n"
     ]
    }
   ],
   "source": [
    "y = 2014\n",
    "df_out = pd.DataFrame(columns=cols)\n",
    "for i in range(1, len(df.columns), 5):\n",
    "    df_temp = pd.DataFrame(columns=cols)\n",
    "    df_temp['Регион'] = df['Регион']\n",
    "    for item in df.columns[i:i+5]:\n",
    "        for jtem in cols:\n",
    "            if item.startswith(jtem[:4]):\n",
    "                df_temp[jtem] = df[item]\n",
    "    df_temp['Год']=y\n",
    "    y+=1\n",
    "    df_out = df_out._append(df_temp)\n",
    "df_out = df_out.astype({'Год':'int32'})\n",
    "path = Path('Data/by_soul/2014-2019.csv')\n",
    "df_out.to_csv(path)"
   ]
  },
  {
   "cell_type": "code",
   "execution_count": 48,
   "id": "badabee3-ff3a-4c1f-8653-2b73572756f1",
   "metadata": {},
   "outputs": [
    {
     "data": {
      "text/html": [
       "<div>\n",
       "<style scoped>\n",
       "    .dataframe tbody tr th:only-of-type {\n",
       "        vertical-align: middle;\n",
       "    }\n",
       "\n",
       "    .dataframe tbody tr th {\n",
       "        vertical-align: top;\n",
       "    }\n",
       "\n",
       "    .dataframe thead th {\n",
       "        text-align: right;\n",
       "    }\n",
       "</style>\n",
       "<table border=\"1\" class=\"dataframe\">\n",
       "  <thead>\n",
       "    <tr style=\"text-align: right;\">\n",
       "      <th></th>\n",
       "      <th>Регион</th>\n",
       "      <th>Водка и ликеро- водочные изделия</th>\n",
       "      <th>Виноградные и плодовые вина</th>\n",
       "      <th>Шампанские и игристые вина</th>\n",
       "      <th>Коньяки</th>\n",
       "      <th>Пиво</th>\n",
       "      <th>Год</th>\n",
       "    </tr>\n",
       "  </thead>\n",
       "  <tbody>\n",
       "    <tr>\n",
       "      <th>1</th>\n",
       "      <td>Российская Федерация</td>\n",
       "      <td>7.700000</td>\n",
       "      <td>6.200000</td>\n",
       "      <td>1.800000</td>\n",
       "      <td>0.800000</td>\n",
       "      <td>61.300000</td>\n",
       "      <td>2014</td>\n",
       "    </tr>\n",
       "    <tr>\n",
       "      <th>2</th>\n",
       "      <td>Центpальный федеральный округ</td>\n",
       "      <td>10.100000</td>\n",
       "      <td>7.700000</td>\n",
       "      <td>2.700000</td>\n",
       "      <td>1.100000</td>\n",
       "      <td>72.000000</td>\n",
       "      <td>2014</td>\n",
       "    </tr>\n",
       "    <tr>\n",
       "      <th>3</th>\n",
       "      <td>Белгородская область</td>\n",
       "      <td>5.200000</td>\n",
       "      <td>3.000000</td>\n",
       "      <td>1.200000</td>\n",
       "      <td>0.300000</td>\n",
       "      <td>55.500000</td>\n",
       "      <td>2014</td>\n",
       "    </tr>\n",
       "    <tr>\n",
       "      <th>4</th>\n",
       "      <td>Бpянская область</td>\n",
       "      <td>6.400000</td>\n",
       "      <td>8.500000</td>\n",
       "      <td>1.400000</td>\n",
       "      <td>0.500000</td>\n",
       "      <td>46.900000</td>\n",
       "      <td>2014</td>\n",
       "    </tr>\n",
       "    <tr>\n",
       "      <th>5</th>\n",
       "      <td>Владимиpская область</td>\n",
       "      <td>7.900000</td>\n",
       "      <td>9.600000</td>\n",
       "      <td>1.000000</td>\n",
       "      <td>0.700000</td>\n",
       "      <td>51.400000</td>\n",
       "      <td>2014</td>\n",
       "    </tr>\n",
       "    <tr>\n",
       "      <th>...</th>\n",
       "      <td>...</td>\n",
       "      <td>...</td>\n",
       "      <td>...</td>\n",
       "      <td>...</td>\n",
       "      <td>...</td>\n",
       "      <td>...</td>\n",
       "      <td>...</td>\n",
       "    </tr>\n",
       "    <tr>\n",
       "      <th>86</th>\n",
       "      <td>Сахалинская область</td>\n",
       "      <td>7.614527</td>\n",
       "      <td>7.623182</td>\n",
       "      <td>2.910284</td>\n",
       "      <td>1.374499</td>\n",
       "      <td>56.952197</td>\n",
       "      <td>2019</td>\n",
       "    </tr>\n",
       "    <tr>\n",
       "      <th>87</th>\n",
       "      <td>Еврейская автономная область</td>\n",
       "      <td>5.529455</td>\n",
       "      <td>5.498925</td>\n",
       "      <td>1.462586</td>\n",
       "      <td>0.559361</td>\n",
       "      <td>62.089225</td>\n",
       "      <td>2019</td>\n",
       "    </tr>\n",
       "    <tr>\n",
       "      <th>88</th>\n",
       "      <td>Чукотский автономный округ</td>\n",
       "      <td>3.999525</td>\n",
       "      <td>4.175170</td>\n",
       "      <td>1.634483</td>\n",
       "      <td>1.201382</td>\n",
       "      <td>34.399547</td>\n",
       "      <td>2019</td>\n",
       "    </tr>\n",
       "    <tr>\n",
       "      <th>89</th>\n",
       "      <td>Республика Крым</td>\n",
       "      <td>4.577286</td>\n",
       "      <td>4.732818</td>\n",
       "      <td>1.773212</td>\n",
       "      <td>0.748570</td>\n",
       "      <td>36.447218</td>\n",
       "      <td>2019</td>\n",
       "    </tr>\n",
       "    <tr>\n",
       "      <th>90</th>\n",
       "      <td>г.Севастополь</td>\n",
       "      <td>5.430161</td>\n",
       "      <td>5.707893</td>\n",
       "      <td>1.823517</td>\n",
       "      <td>1.176466</td>\n",
       "      <td>22.760385</td>\n",
       "      <td>2019</td>\n",
       "    </tr>\n",
       "  </tbody>\n",
       "</table>\n",
       "<p>540 rows × 7 columns</p>\n",
       "</div>"
      ],
      "text/plain": [
       "                           Регион  Водка и ликеро- водочные изделия  \\\n",
       "1            Российская Федерация                          7.700000   \n",
       "2   Центpальный федеральный округ                         10.100000   \n",
       "3            Белгородская область                          5.200000   \n",
       "4                Бpянская область                          6.400000   \n",
       "5            Владимиpская область                          7.900000   \n",
       "..                            ...                               ...   \n",
       "86            Сахалинская область                          7.614527   \n",
       "87   Еврейская автономная область                          5.529455   \n",
       "88     Чукотский автономный округ                          3.999525   \n",
       "89                Республика Крым                          4.577286   \n",
       "90                  г.Севастополь                          5.430161   \n",
       "\n",
       "    Виноградные и плодовые вина  Шампанские и игристые вина   Коньяки  \\\n",
       "1                      6.200000                    1.800000  0.800000   \n",
       "2                      7.700000                    2.700000  1.100000   \n",
       "3                      3.000000                    1.200000  0.300000   \n",
       "4                      8.500000                    1.400000  0.500000   \n",
       "5                      9.600000                    1.000000  0.700000   \n",
       "..                          ...                         ...       ...   \n",
       "86                     7.623182                    2.910284  1.374499   \n",
       "87                     5.498925                    1.462586  0.559361   \n",
       "88                     4.175170                    1.634483  1.201382   \n",
       "89                     4.732818                    1.773212  0.748570   \n",
       "90                     5.707893                    1.823517  1.176466   \n",
       "\n",
       "         Пиво   Год  \n",
       "1   61.300000  2014  \n",
       "2   72.000000  2014  \n",
       "3   55.500000  2014  \n",
       "4   46.900000  2014  \n",
       "5   51.400000  2014  \n",
       "..        ...   ...  \n",
       "86  56.952197  2019  \n",
       "87  62.089225  2019  \n",
       "88  34.399547  2019  \n",
       "89  36.447218  2019  \n",
       "90  22.760385  2019  \n",
       "\n",
       "[540 rows x 7 columns]"
      ]
     },
     "execution_count": 48,
     "metadata": {},
     "output_type": "execute_result"
    }
   ],
   "source": [
    "df_out"
   ]
  },
  {
   "cell_type": "code",
   "execution_count": 50,
   "id": "f606a0be-af8d-448e-b79c-7890875baf52",
   "metadata": {},
   "outputs": [],
   "source": [
    "path= Path(\"Data/2020-2022_raw.xlsx\")\n",
    "df = pd.read_excel(path)\n",
    "y = 2020\n",
    "df_out = pd.DataFrame(columns=cols)\n",
    "for i in range(1, 4):\n",
    "    df_temp = pd.DataFrame(columns=cols)\n",
    "    df_temp['Регион'] = df['Unnamed: 0']\n",
    "    for item in df.columns[i::3]:\n",
    "        for jtem in cols:\n",
    "            if item.startswith(jtem[:4]):\n",
    "                df_temp[jtem] = df[item]\n",
    "    df_temp['Год']=y\n",
    "    y+=1\n",
    "    df_out = df_out._append(df_temp)\n",
    "df_out = df_out.astype({'Год':'int32'})\n",
    "path = Path('Data/raw/2020-2022.csv')\n",
    "df_out.drop(df.index[0], axis=0).to_csv(path)"
   ]
  },
  {
   "cell_type": "markdown",
   "id": "dceda263-91ae-42d6-ab6e-659d7b01fe4c",
   "metadata": {},
   "source": [
    "**3.** Вытащим Численность населения для 2001-2006 и 2019-2022 для последующего получения подушевого потребления для 2002-2006 и 2020-2022 годов"
   ]
  },
  {
   "cell_type": "code",
   "execution_count": 51,
   "id": "10e34fb7-5709-40dd-bbfa-3b61926d1f38",
   "metadata": {},
   "outputs": [],
   "source": [
    "def take_page_less(url, first_path, wording='численность'):\n",
    "    driver = webdriver.Chrome() \n",
    "    driver.get(url) \n",
    "    time.sleep(2)\n",
    "    try:\n",
    "        element = driver.find_element('xpath', \"//*[(text()='\"+first_path[0]+\"')]\")\n",
    "    except:\n",
    "        element = driver.find_element('xpath', \"//*[(text()='\"+first_path[1]+\"')]\")\n",
    "        print(element)\n",
    "    element.click()\n",
    "    time.sleep(2)\n",
    "    elements = driver.find_elements('xpath', \"//*[@href]\")\n",
    "    res = dict()\n",
    "    for el in elements:\n",
    "        res[el.get_attribute('text')] = el.get_attribute('href')\n",
    "    driver.quit()\n",
    "    return(list(value for key, value in res.items() if wording in key.lower()))"
   ]
  },
  {
   "cell_type": "code",
   "execution_count": 53,
   "id": "758dcf61-40ac-433e-ada8-2fd609b96bcc",
   "metadata": {},
   "outputs": [],
   "source": [
    "people = ['Население', 'НАСЕЛЕНИЕ']\n",
    "quant = ['Предварительные итоги Всероссийской переписи населения','ПРЕДВАРИТЕЛЬНЫЕ ИТОГИ ВСЕРОССИЙСКОЙ ПЕРЕПИСИ НАСЕЛЕНИЯ']"
   ]
  },
  {
   "cell_type": "code",
   "execution_count": 54,
   "id": "ca8e8607-d0b1-4a89-b6b9-cde2b2f470e6",
   "metadata": {},
   "outputs": [
    {
     "name": "stdout",
     "output_type": "stream",
     "text": [
      "<selenium.webdriver.remote.webelement.WebElement (session=\"7432c5ec4277ddd1eb329ef0520c90c3\", element=\"f.08CA2A96479BB2D80375AA22518913B9.d.0426DE9144EE753425EBE73430E635C7.e.32\")>\n",
      "<selenium.webdriver.remote.webelement.WebElement (session=\"ebba79197812ae3dbeca33d8fba69329\", element=\"f.0CACAAA6B7C5B0F6C473A83AD15D72F7.d.59414797FB6FBFE7FD55395650533B16.e.32\")>\n"
     ]
    },
    {
     "data": {
      "text/plain": [
       "{2020: ['https://rosstat.gov.ru/bgd/regl/b21_14p/IssWWW.exe/Stg/d1/02-01.docx',\n",
       "  'https://rosstat.gov.ru/bgd/regl/b21_14p/IssWWW.exe/Stg/d1/02-02.docx'],\n",
       " 2019: ['https://rosstat.gov.ru/bgd/regl/b20_14p/IssWWW.exe/Stg/d01/02-01.docx',\n",
       "  'https://rosstat.gov.ru/bgd/regl/b20_14p/IssWWW.exe/Stg/d01/02-02.docx'],\n",
       " 2018: ['https://rosstat.gov.ru/bgd/regl/B19_14p/IssWWW.exe/Stg/d01/02-01.docx',\n",
       "  'https://rosstat.gov.ru/bgd/regl/B19_14p/IssWWW.exe/Stg/d01/02-02.docx'],\n",
       " 2017: ['https://rosstat.gov.ru/bgd/regl/B18_14p/IssWWW.exe/Stg/d01/02-01.doc',\n",
       "  'https://rosstat.gov.ru/bgd/regl/B18_14p/IssWWW.exe/Stg/d01/02-02.doc'],\n",
       " 2016: ['https://rosstat.gov.ru/bgd/regl/B17_14p/IssWWW.exe/Stg/d01/02-01.doc',\n",
       "  'https://rosstat.gov.ru/bgd/regl/B17_14p/IssWWW.exe/Stg/d01/02-02.doc'],\n",
       " 2015: ['https://rosstat.gov.ru/bgd/regl/B16_14p/IssWWW.exe/Stg/d01/02-01.doc',\n",
       "  'https://rosstat.gov.ru/bgd/regl/B16_14p/IssWWW.exe/Stg/d01/02-02.doc'],\n",
       " 2014: ['https://rosstat.gov.ru/bgd/regl/B15_14p/IssWWW.exe/Stg/d01/02-01.doc',\n",
       "  'https://rosstat.gov.ru/bgd/regl/B15_14p/IssWWW.exe/Stg/d01/02-02.doc'],\n",
       " 2013: ['https://rosstat.gov.ru/bgd/regl/B14_14p/IssWWW.exe/Stg/d01/02-01.htm',\n",
       "  'https://rosstat.gov.ru/bgd/regl/B14_14p/IssWWW.exe/Stg/d01/02-02.htm'],\n",
       " 2012: ['https://rosstat.gov.ru/bgd/regl/B13_14p/IssWWW.exe/Stg/d1/02-01.htm',\n",
       "  'https://rosstat.gov.ru/bgd/regl/B13_14p/IssWWW.exe/Stg/d1/02-02.htm'],\n",
       " 2011: ['https://rosstat.gov.ru/bgd/regl/B12_14p/IssWWW.exe/Stg/d01/03-01.htm',\n",
       "  'https://rosstat.gov.ru/bgd/regl/B12_14p/IssWWW.exe/Stg/d01/03-02.htm'],\n",
       " 2010: [],\n",
       " 2009: ['https://rosstat.gov.ru/bgd/regl/B10_14p/IssWWW.exe/Stg/d01/03-01.htm',\n",
       "  'https://rosstat.gov.ru/bgd/regl/B10_14p/IssWWW.exe/Stg/d01/03-02.htm'],\n",
       " 2008: ['https://rosstat.gov.ru/bgd/regl/B09_14p/IssWWW.exe/Stg/d1/03-01.htm',\n",
       "  'https://rosstat.gov.ru/bgd/regl/B09_14p/IssWWW.exe/Stg/d1/03-02.htm'],\n",
       " 2007: ['https://rosstat.gov.ru/bgd/regl/B08_14p/IssWWW.exe/Stg/d1/03-01.htm',\n",
       "  'https://rosstat.gov.ru/bgd/regl/B08_14p/IssWWW.exe/Stg/d1/03-02.htm'],\n",
       " 2006: ['https://rosstat.gov.ru/bgd/regl/B07_14p/IssWWW.exe/Stg/d01/02-01.htm',\n",
       "  'https://rosstat.gov.ru/bgd/regl/B07_14p/IssWWW.exe/Stg/d01/02-02.htm'],\n",
       " 2005: ['https://rosstat.gov.ru/bgd/regl/B06_14p/IssWWW.exe/Stg/d01/02-01.htm',\n",
       "  'https://rosstat.gov.ru/bgd/regl/B06_14p/IssWWW.exe/Stg/d01/02-02.htm'],\n",
       " 2004: ['https://rosstat.gov.ru/bgd/regl/B05_14p/IssWWW.exe/Stg/d010/02-01.htm'],\n",
       " 2003: ['https://rosstat.gov.ru/bgd/regl/B04_14/IssWWW.exe/Stg/d010/i010090r.htm'],\n",
       " 2002: []}"
      ]
     },
     "execution_count": 54,
     "metadata": {},
     "output_type": "execute_result"
    }
   ],
   "source": [
    "y = 2020\n",
    "people_number = dict()\n",
    "for page in pages:\n",
    "    people_number[y]=take_page_less(page, people, 'численность населения')\n",
    "    y+=(-1)\n",
    "people_number"
   ]
  },
  {
   "cell_type": "code",
   "execution_count": 68,
   "id": "85d35ace-e814-416b-99cb-193bb4a8887d",
   "metadata": {},
   "outputs": [],
   "source": [
    "def take_quant(url, year):\n",
    "    response_temp = requests.get(url) \n",
    "    soup_temp = BeautifulSoup(response_temp.content,'html')\n",
    "    tables = soup_temp.find_all('table')\n",
    "    \n",
    "    df = pd.read_html(str(tables), flavor='bs4')[0]\n",
    "    df = df[df.columns[0::len(df.columns)-1]].drop(df.index[0], axis=0)\n",
    "    df = df.rename(columns={df.columns[0]:'Регион', df.columns[1]:'Численность'})\n",
    "    df['Год'] = year\n",
    "    return df"
   ]
  },
  {
   "cell_type": "code",
   "execution_count": 79,
   "id": "7a8320e9-4f41-43ad-86bf-3c5e679f4c30",
   "metadata": {},
   "outputs": [
    {
     "name": "stderr",
     "output_type": "stream",
     "text": [
      "C:\\Users\\maxkh\\AppData\\Local\\Temp\\ipykernel_22172\\21668094.py:5: FutureWarning: Passing literal html to 'read_html' is deprecated and will be removed in a future version. To read from a literal string, wrap it in a 'StringIO' object.\n",
      "  df_q = pd.read_html(str(tables), flavor='bs4')[0]\n",
      "C:\\Users\\maxkh\\AppData\\Local\\Temp\\ipykernel_22172\\1916188061.py:6: FutureWarning: Passing literal html to 'read_html' is deprecated and will be removed in a future version. To read from a literal string, wrap it in a 'StringIO' object.\n",
      "  df = pd.read_html(str(tables), flavor='bs4')[0]\n",
      "C:\\Users\\maxkh\\AppData\\Local\\Temp\\ipykernel_22172\\1916188061.py:6: FutureWarning: Passing literal html to 'read_html' is deprecated and will be removed in a future version. To read from a literal string, wrap it in a 'StringIO' object.\n",
      "  df = pd.read_html(str(tables), flavor='bs4')[0]\n",
      "C:\\Users\\maxkh\\AppData\\Local\\Temp\\ipykernel_22172\\1916188061.py:6: FutureWarning: Passing literal html to 'read_html' is deprecated and will be removed in a future version. To read from a literal string, wrap it in a 'StringIO' object.\n",
      "  df = pd.read_html(str(tables), flavor='bs4')[0]\n",
      "C:\\Users\\maxkh\\AppData\\Local\\Temp\\ipykernel_22172\\1916188061.py:6: FutureWarning: Passing literal html to 'read_html' is deprecated and will be removed in a future version. To read from a literal string, wrap it in a 'StringIO' object.\n",
      "  df = pd.read_html(str(tables), flavor='bs4')[0]\n"
     ]
    }
   ],
   "source": [
    "response_temp = requests.get('https://rosstat.gov.ru/bgd/regl/B03_14/IssWWW.exe/Stg/d010/i010090r.htm') \n",
    "soup_temp = BeautifulSoup(response_temp.content,'html')\n",
    "tables = soup_temp.find_all('table')\n",
    "    \n",
    "df_q = pd.read_html(str(tables), flavor='bs4')[0]\n",
    "df_q = df_q[df_q.columns[0:5:4]].drop(df_q.index[0], axis=0)\n",
    "df_q = df_q.rename(columns={df_q.columns[0]:'Регион', df_q.columns[1]:'Численность'})\n",
    "df_q['Год'] = 2002\n",
    "df_q = df_q.dropna()\n",
    "df_q = pd.DataFrame(columns=['Регион', 'Численность', 'Год'])\n",
    "for i in range(2003, 2007):\n",
    "    df_q = df_q._append(take_quant(people_number[i][0], i).dropna())"
   ]
  },
  {
   "cell_type": "code",
   "execution_count": 83,
   "id": "06f3d046-0838-42e5-91e9-a2d302de5768",
   "metadata": {},
   "outputs": [],
   "source": [
    "path = Path('Data/quant/2002-2006.csv')\n",
    "df_q.to_csv(path)"
   ]
  },
  {
   "cell_type": "markdown",
   "id": "0f40b4ec-a08c-4c6b-95b6-a3450858aa5f",
   "metadata": {},
   "source": [
    "**4.** Получим реальные зарплаты"
   ]
  },
  {
   "cell_type": "code",
   "execution_count": 99,
   "id": "a1368293-f862-4fc7-a6b3-da8a17582061",
   "metadata": {},
   "outputs": [],
   "source": [
    "stand_of_living = ['УРОВЕНЬ ЖИЗНИ НАСЕЛЕНИЯ','Уровень жизни населения']\n",
    "wealth = ['ДЕНЕЖНЫЕ ДОХОДЫ НАСЕЛЕНИЯ', 'Денежные доходы населения']\n",
    "wording = 'реаль'"
   ]
  },
  {
   "cell_type": "code",
   "execution_count": 100,
   "id": "2bafbeba-7a6b-40a0-ae1a-da0cbb38d356",
   "metadata": {},
   "outputs": [],
   "source": [
    "y = 2020\n",
    "people_salary = dict()\n",
    "for page in pages:\n",
    "    people_salary[y]=take_page(page, stand_of_living, wealth, wording)\n",
    "    y-=1"
   ]
  },
  {
   "cell_type": "code",
   "execution_count": 88,
   "id": "0f1d662b-9d18-44f2-b8da-d409f305a3d2",
   "metadata": {},
   "outputs": [],
   "source": [
    "def take_wealth(url, year, space, wording):\n",
    "    response_temp = requests.get(url) \n",
    "    soup_temp = BeautifulSoup(response_temp.content,'html')\n",
    "    tables = soup_temp.find_all('table')\n",
    "    \n",
    "    df = pd.read_html(str(tables), flavor='bs4')[0]\n",
    "    df = df[df.columns[0:space+1:space]].drop(df.index[0], axis=0)\n",
    "    df = df.rename(columns={df.columns[0]:'Регион', df.columns[1]:wording})\n",
    "    df['Реальные денежные доходы населения'] = pd.to_numeric(df['Реальные денежные доходы населения'], errors='coerce')/10\n",
    "    df['Год'] = year\n",
    "    return df"
   ]
  },
  {
   "cell_type": "code",
   "execution_count": 102,
   "id": "67c5ffa2-5b5e-400a-a5fc-f189cd8a6d8a",
   "metadata": {},
   "outputs": [
    {
     "name": "stderr",
     "output_type": "stream",
     "text": [
      "C:\\Users\\maxkh\\AppData\\Local\\Temp\\ipykernel_22172\\145990495.py:6: FutureWarning: Passing literal html to 'read_html' is deprecated and will be removed in a future version. To read from a literal string, wrap it in a 'StringIO' object.\n",
      "  df = pd.read_html(str(tables), flavor='bs4')[0]\n",
      "C:\\Users\\maxkh\\AppData\\Local\\Temp\\ipykernel_22172\\2774814643.py:5: FutureWarning: The behavior of DataFrame concatenation with empty or all-NA entries is deprecated. In a future version, this will no longer exclude empty or all-NA columns when determining the result dtypes. To retain the old behavior, exclude the relevant entries before the concat operation.\n",
      "  df_q = df_q._append(take_wealth(people_salary[i][0], i, 5, wording))\n",
      "C:\\Users\\maxkh\\AppData\\Local\\Temp\\ipykernel_22172\\145990495.py:6: FutureWarning: Passing literal html to 'read_html' is deprecated and will be removed in a future version. To read from a literal string, wrap it in a 'StringIO' object.\n",
      "  df = pd.read_html(str(tables), flavor='bs4')[0]\n",
      "C:\\Users\\maxkh\\AppData\\Local\\Temp\\ipykernel_22172\\145990495.py:6: FutureWarning: Passing literal html to 'read_html' is deprecated and will be removed in a future version. To read from a literal string, wrap it in a 'StringIO' object.\n",
      "  df = pd.read_html(str(tables), flavor='bs4')[0]\n",
      "C:\\Users\\maxkh\\AppData\\Local\\Temp\\ipykernel_22172\\145990495.py:6: FutureWarning: Passing literal html to 'read_html' is deprecated and will be removed in a future version. To read from a literal string, wrap it in a 'StringIO' object.\n",
      "  df = pd.read_html(str(tables), flavor='bs4')[0]\n",
      "C:\\Users\\maxkh\\AppData\\Local\\Temp\\ipykernel_22172\\145990495.py:6: FutureWarning: Passing literal html to 'read_html' is deprecated and will be removed in a future version. To read from a literal string, wrap it in a 'StringIO' object.\n",
      "  df = pd.read_html(str(tables), flavor='bs4')[0]\n",
      "C:\\Users\\maxkh\\AppData\\Local\\Temp\\ipykernel_22172\\145990495.py:6: FutureWarning: Passing literal html to 'read_html' is deprecated and will be removed in a future version. To read from a literal string, wrap it in a 'StringIO' object.\n",
      "  df = pd.read_html(str(tables), flavor='bs4')[0]\n",
      "C:\\Users\\maxkh\\AppData\\Local\\Temp\\ipykernel_22172\\145990495.py:6: FutureWarning: Passing literal html to 'read_html' is deprecated and will be removed in a future version. To read from a literal string, wrap it in a 'StringIO' object.\n",
      "  df = pd.read_html(str(tables), flavor='bs4')[0]\n",
      "C:\\Users\\maxkh\\AppData\\Local\\Temp\\ipykernel_22172\\145990495.py:6: FutureWarning: Passing literal html to 'read_html' is deprecated and will be removed in a future version. To read from a literal string, wrap it in a 'StringIO' object.\n",
      "  df = pd.read_html(str(tables), flavor='bs4')[0]\n",
      "C:\\Users\\maxkh\\AppData\\Local\\Temp\\ipykernel_22172\\145990495.py:6: FutureWarning: Passing literal html to 'read_html' is deprecated and will be removed in a future version. To read from a literal string, wrap it in a 'StringIO' object.\n",
      "  df = pd.read_html(str(tables), flavor='bs4')[0]\n",
      "C:\\Users\\maxkh\\AppData\\Local\\Temp\\ipykernel_22172\\145990495.py:6: FutureWarning: Passing literal html to 'read_html' is deprecated and will be removed in a future version. To read from a literal string, wrap it in a 'StringIO' object.\n",
      "  df = pd.read_html(str(tables), flavor='bs4')[0]\n",
      "C:\\Users\\maxkh\\AppData\\Local\\Temp\\ipykernel_22172\\145990495.py:6: FutureWarning: Passing literal html to 'read_html' is deprecated and will be removed in a future version. To read from a literal string, wrap it in a 'StringIO' object.\n",
      "  df = pd.read_html(str(tables), flavor='bs4')[0]\n",
      "C:\\Users\\maxkh\\AppData\\Local\\Temp\\ipykernel_22172\\145990495.py:6: FutureWarning: Passing literal html to 'read_html' is deprecated and will be removed in a future version. To read from a literal string, wrap it in a 'StringIO' object.\n",
      "  df = pd.read_html(str(tables), flavor='bs4')[0]\n"
     ]
    }
   ],
   "source": [
    "y = 2002\n",
    "wording = 'Реальные денежные доходы населения'\n",
    "df_q = pd.DataFrame(columns=['Регион', 'Реальные денежные доходы населения', 'Год'])\n",
    "for i in range(y, 2014):\n",
    "    df_q = df_q._append(take_wealth(people_salary[i][0], i, 5, wording))"
   ]
  },
  {
   "cell_type": "code",
   "execution_count": 105,
   "id": "41d88547-a6e1-4ce9-bb78-2589986f65a0",
   "metadata": {},
   "outputs": [],
   "source": [
    "path = Path('Data/wealth/2002-2013.csv')\n",
    "df_q.dropna().to_csv(path)"
   ]
  },
  {
   "cell_type": "code",
   "execution_count": null,
   "id": "2ee26674-c769-4c8f-94d9-45bf0ce3529a",
   "metadata": {},
   "outputs": [],
   "source": []
  }
 ],
 "metadata": {
  "kernelspec": {
   "display_name": "Python 3 (ipykernel)",
   "language": "python",
   "name": "python3"
  },
  "language_info": {
   "codemirror_mode": {
    "name": "ipython",
    "version": 3
   },
   "file_extension": ".py",
   "mimetype": "text/x-python",
   "name": "python",
   "nbconvert_exporter": "python",
   "pygments_lexer": "ipython3",
   "version": "3.11.7"
  }
 },
 "nbformat": 4,
 "nbformat_minor": 5
}
